{
 "cells": [
  {
   "attachments": {},
   "cell_type": "markdown",
   "metadata": {},
   "source": [
    "Let the input string consist of n letters, a1... an.\n",
    "Let the grammar contain r terminal and nonterminal symbols R1... Rr. \n",
    "This grammar contains the subset Rs which is the set of start symbols.\n",
    "\n",
    "Let P[n,n,r] be an array of booleans. Initialize all elements of P to false. #dimensió de la matriu, amb tot a false\n",
    "\n",
    "For each i = 1 to n\n",
    "  For each unit production Rj → ai, set P[i,1,j] = true. #si la gramàtica pot generar els terminals, posar true\n",
    "\n",
    "For each i = 2 to n -- Length of string\n",
    "  For each j = 1 to n-i+1 -- Start of string\n",
    "    For each k = 1 to i-1 -- Partition of string\n",
    "      For each production RA -> RB RC\n",
    "        If P[j,k,B] and P[j+k,i-k,C] then set P[j,i,A] = true\n",
    "\n",
    "\n",
    "If any of P[1,n,x] is true (x is iterated over the set s, where s are all the indices for Rs)\n",
    "  Then string is member of language\n",
    "  Else string is not member of language"
   ]
  },
  {
   "cell_type": "code",
   "execution_count": 65,
   "metadata": {},
   "outputs": [
    {
     "data": {
      "text/plain": [
       "True"
      ]
     },
     "execution_count": 65,
     "metadata": {},
     "output_type": "execute_result"
    }
   ],
   "source": [
    "from itertools import product\n",
    "S,A,B,X,R = 0,1,2,3,4\n",
    "rules = {'a':set([S,B,X]), \n",
    "         'b':set([S,B]), \n",
    "         (X,A): set([S]), \n",
    "         (A,X):set([S,B]), \n",
    "         (R,B): set([A]), \n",
    "         (X,B):set([R])}\n",
    "\n",
    "#nt_rules = {0: ('S','XA','AX'),1:('A','RB'),2:('B','AX'),3:('X'),4:('R','XB')}\n",
    "word = 'aaba'\n",
    "\n",
    "class Dynamic_Chomsky:\n",
    "    \n",
    "    def __init__(self, rules):\n",
    "        self.rules = rules\n",
    "        self.amount_rules = 5\n",
    "    \n",
    "    def test_word(self, word):\n",
    "        self.word = word\n",
    "        self.length = len(word)\n",
    "        self.build_table()\n",
    "        return 0 in self.table[0][0]\n",
    "\n",
    "    def build_table(self):\n",
    "        self.table = [[set() for p in range(self.length)]for i in range(self.length)]\n",
    "        # We make sure the grammar can generate the terminals\n",
    "        for terminal in range(self.length):\n",
    "            self.table[self.length-1][terminal] = self.rules[word[terminal]]\n",
    "        for i in range(self.length-2,-1, -1): # fila\n",
    "            for j in range(0,i+1,1): # columna\n",
    "                i1, j1 = self.length-1, j\n",
    "                i2, j2 = i+1, j+1\n",
    "                while i1 > i:\n",
    "                    # Fer combinacions\n",
    "                    for combi in self.combination((i1,j1),(i2,j2)):\n",
    "                        if combi in rules:\n",
    "                            if (rules[combi]) == 1: self.table[i][j].add(rules[combi]) \n",
    "                            else : self.table[i][j].update(rules[combi]) \n",
    "                    i1, i2, j2 = i1-1, i2+1, j2+1 \n",
    "  \n",
    "    def combination(self, cell1, cell2):\n",
    "        return list(product(self.table[cell1[0]][cell1[1]], self.table[cell2[0]][cell2[1]]))\n",
    "\n",
    "cky = Dynamic_Chomsky(rules)\n",
    "cky.test_word(word = word)"
   ]
  }
 ],
 "metadata": {
  "kernelspec": {
   "display_name": "practicapaa",
   "language": "python",
   "name": "python3"
  },
  "language_info": {
   "codemirror_mode": {
    "name": "ipython",
    "version": 3
   },
   "file_extension": ".py",
   "mimetype": "text/x-python",
   "name": "python",
   "nbconvert_exporter": "python",
   "pygments_lexer": "ipython3",
   "version": "3.10.9"
  },
  "orig_nbformat": 4
 },
 "nbformat": 4,
 "nbformat_minor": 2
}
